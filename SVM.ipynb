{
  "nbformat": 4,
  "nbformat_minor": 0,
  "metadata": {
    "colab": {
      "provenance": []
    },
    "kernelspec": {
      "name": "python3",
      "display_name": "Python 3"
    },
    "language_info": {
      "name": "python"
    }
  },
  "cells": [
    {
      "cell_type": "code",
      "source": [
        "from sklearn import svm\n",
        "from sklearn.metrics import accuracy_score\n",
        "import torchvision.datasets as datasets\n",
        "import numpy as np\n",
        "import matplotlib.pyplot as plt"
      ],
      "metadata": {
        "id": "seJsoTkQWliA"
      },
      "execution_count": 25,
      "outputs": []
    },
    {
      "cell_type": "code",
      "source": [
        "# 1. Load MNIST dataset\n",
        "mnist_train = datasets.MNIST(root='./data', train=True, download=True)\n",
        "mnist_test = datasets.MNIST(root='./data', train=False, download=True)"
      ],
      "metadata": {
        "id": "7OpvFBW9Wotn"
      },
      "execution_count": 26,
      "outputs": []
    },
    {
      "cell_type": "code",
      "source": [
        "# 2. Flatten and normalize\n",
        "X_train = mnist_train.data.numpy().reshape(-1, 28*28) / 255.0\n",
        "y_train = mnist_train.targets.numpy()\n",
        "X_test = mnist_test.data.numpy().reshape(-1, 28*28) / 255.0\n",
        "y_test = mnist_test.targets.numpy()"
      ],
      "metadata": {
        "id": "UogmlRc1WrmA"
      },
      "execution_count": 27,
      "outputs": []
    },
    {
      "cell_type": "code",
      "source": [
        "# 3. Train SVM on a subset\n",
        "print(\"Training SVM on 10,000 samples...\")\n",
        "clf = svm.SVC(kernel='rbf', C=5, gamma=0.05)\n",
        "clf.fit(X_train[:10000], y_train[:10000])\n",
        "print(\"✅ Training complete.\")"
      ],
      "metadata": {
        "colab": {
          "base_uri": "https://localhost:8080/"
        },
        "id": "NeDKULAqWuT9",
        "outputId": "9e13f758-66c3-4d88-e1a8-8f71a238f0d7"
      },
      "execution_count": 28,
      "outputs": [
        {
          "output_type": "stream",
          "name": "stdout",
          "text": [
            "Training SVM on 10,000 samples...\n",
            "✅ Training complete.\n"
          ]
        }
      ]
    },
    {
      "cell_type": "code",
      "source": [
        "# 4. Predict on test set\n",
        "print(\"Evaluating on test set...\")\n",
        "y_pred = clf.predict(X_test)"
      ],
      "metadata": {
        "colab": {
          "base_uri": "https://localhost:8080/"
        },
        "id": "7Y9-YSjwWxBp",
        "outputId": "547d920f-4448-4dd1-bf30-2b6fc3982763"
      },
      "execution_count": 29,
      "outputs": [
        {
          "output_type": "stream",
          "name": "stdout",
          "text": [
            "Evaluating on test set...\n"
          ]
        }
      ]
    },
    {
      "cell_type": "code",
      "source": [
        "# 5. Accuracy\n",
        "accuracy = accuracy_score(y_test, y_pred)\n",
        "print(f\"🎯 Accuracy on test set: {accuracy * 100:.2f}%\")"
      ],
      "metadata": {
        "colab": {
          "base_uri": "https://localhost:8080/"
        },
        "id": "X7ZxPUR6Wx-U",
        "outputId": "f2cdc860-242a-4b5a-ec81-8c3d2d8d3bd9"
      },
      "execution_count": 30,
      "outputs": [
        {
          "output_type": "stream",
          "name": "stdout",
          "text": [
            "🎯 Accuracy on test set: 96.64%\n"
          ]
        }
      ]
    },
    {
      "cell_type": "code",
      "source": [
        "# 6. Display a few predictions with images\n",
        "def show_predictions(images, predictions, actuals, count=10):\n",
        "    plt.figure(figsize=(12, 5))\n",
        "    for i in range(count):\n",
        "        plt.subplot(2, count//2, i+1)\n",
        "        plt.imshow(images[i], cmap='gray')\n",
        "        plt.title(f\"Pred: {predictions[i]}\\nTrue: {actuals[i]}\")\n",
        "        plt.axis('off')\n",
        "    plt.tight_layout()\n",
        "    plt.show()\n",
        "\n",
        "# Call function with actual images\n",
        "show_predictions(mnist_test.data.numpy(), y_pred, y_test)"
      ],
      "metadata": {
        "colab": {
          "base_uri": "https://localhost:8080/",
          "height": 359
        },
        "id": "voic_GwKX0OE",
        "outputId": "b68e6467-3c5b-42e9-b70b-be16447d1c50"
      },
      "execution_count": 31,
      "outputs": [
        {
          "output_type": "display_data",
          "data": {
            "text/plain": [
              "<Figure size 1200x500 with 10 Axes>"
            ],
            "image/png": "[encoded data removed]"
          },
          "metadata": {}
        }
      ]
    }
  ]
}