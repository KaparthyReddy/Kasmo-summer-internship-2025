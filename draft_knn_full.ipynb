from sklearn.datasets import fetch_openml
from sklearn.model_selection import train_test_split
from sklearn.preprocessing import StandardScaler
from sklearn.decomposition import PCA
from sklearn.neighbors import KNeighborsClassifier
from sklearn.metrics import classification_report, accuracy_score

print("Loading full MNIST dataset (digits 0–9)...")
mnist = fetch_openml('mnist_784', version=1, as_frame=False, parser='auto')
X, y = mnist.data, mnist.target.astype('int')

print("Standardizing the data...")
scaler = StandardScaler()
X_scaled = scaler.fit_transform(X)

print("Applying PCA...")
pca = PCA(0.95)
X_pca = pca.fit_transform(X_scaled)
print(f"Original dimensions: {X.shape[1]}, Reduced dimensions: {X_pca.shape[1]}")

print("Splitting into train and test sets...")
X_train, X_test, y_train, y_test = train_test_split(
    X_pca, y, test_size=0.2, random_state=42
)

print("Training KNN classifier...")
knn = KNeighborsClassifier(n_neighbors=3)
knn.fit(X_train, y_train)

print("Evaluating the model...")
y_pred = knn.predict(X_test)
acc = accuracy_score(y_test, y_pred)

print(f"\nTest Accuracy: {acc:.4f}")
print("\nClassification Report:")
print(classification_report(y_test, y_pred))
